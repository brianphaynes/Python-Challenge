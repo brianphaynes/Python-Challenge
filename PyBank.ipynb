{
 "cells": [
  {
   "cell_type": "code",
   "execution_count": 28,
   "id": "0b2df798",
   "metadata": {},
   "outputs": [],
   "source": [
    "import pandas as pd"
   ]
  },
  {
   "cell_type": "code",
   "execution_count": 29,
   "id": "ffa9105d",
   "metadata": {},
   "outputs": [
    {
     "data": {
      "text/plain": [
       "['Date',\n",
       " 'Profit/Losses',\n",
       " 'Profit/Losses_Shifted',\n",
       " 'difference',\n",
       " 'shifted',\n",
       " 'growth']"
      ]
     },
     "execution_count": 29,
     "metadata": {},
     "output_type": "execute_result"
    }
   ],
   "source": [
    "#Stores Header Row\n",
    "header = list(df.columns)\n",
    "header"
   ]
  },
  {
   "cell_type": "code",
   "execution_count": 30,
   "id": "93a96828",
   "metadata": {},
   "outputs": [],
   "source": [
    "#Reads in CSV\n",
    "df = pd.read_csv(r'C:\\Users\\Brian Haynes\\Downloads\\Starter_Code (3)\\Instructions\\PyBank\\Resources\\budget_data.csv')"
   ]
  },
  {
   "cell_type": "code",
   "execution_count": 31,
   "id": "6a6a1e8b",
   "metadata": {},
   "outputs": [
    {
     "name": "stdout",
     "output_type": "stream",
     "text": [
      "86\n"
     ]
    }
   ],
   "source": [
    "#Finds Total Months\n",
    "total_months = len(df)\n",
    "print(total_months) "
   ]
  },
  {
   "cell_type": "code",
   "execution_count": 32,
   "id": "4c29f0e2",
   "metadata": {},
   "outputs": [
    {
     "name": "stdout",
     "output_type": "stream",
     "text": [
      "22564198\n"
     ]
    }
   ],
   "source": [
    "#Finds Total Revenue\n",
    "total = df['Profit/Losses'].sum()\n",
    "print(total)\n"
   ]
  },
  {
   "cell_type": "code",
   "execution_count": 33,
   "id": "5bbf94a0",
   "metadata": {},
   "outputs": [],
   "source": [
    "#Runs For Loop\n",
    "greatest_increase= 0\n",
    "greatest_decrease= 0\n",
    "for i in df[\"Profit/Losses\"].keys():\n",
    "    if i == 0:\n",
    "        difference = df[\"Profit/Losses\"] [i + 1] - df[\"Profit/Losses\"][i]\n",
    "        if difference > greatest_increase:\n",
    "            greatest_increase = difference\n",
    "            date_increase = df[\"Date\"][i+1]\n",
    "        elif difference < greatest_decrease:\n",
    "            greatest_decrease = difference\n",
    "            date_increase = df[\"Date\"][i + 1]\n",
    "else:\n",
    "    difference = df['Profit/Losses'][i] - df['Profit/Losses'][i-1]\n",
    "    if difference > greatest_increase:\n",
    "            greatest_increase = difference\n",
    "            date_increase = df[\"Date\"][i+1]\n",
    "    elif difference < greatest_decrease:\n",
    "            greatest_decrease = difference\n",
    "            date_increase = df[\"Date\"][i + 1]\n",
    "   "
   ]
  },
  {
   "cell_type": "code",
   "execution_count": 34,
   "id": "2b40a317",
   "metadata": {},
   "outputs": [],
   "source": [
    "#Create shifted down column\n",
    "df[\"Profit/Losses_Shifted\"] = df[\"Profit/Losses\"].shift(1)"
   ]
  },
  {
   "cell_type": "code",
   "execution_count": 35,
   "id": "7702cee2",
   "metadata": {},
   "outputs": [],
   "source": [
    "#Finds difference between original and shifted\n",
    "df[\"difference\"] = df[\"Profit/Losses\"] - df[\"Profit/Losses_Shifted\"]"
   ]
  },
  {
   "cell_type": "code",
   "execution_count": 36,
   "id": "3ba2735b",
   "metadata": {
    "scrolled": true
   },
   "outputs": [
    {
     "name": "stdout",
     "output_type": "stream",
     "text": [
      "-8311.11\n"
     ]
    }
   ],
   "source": [
    "#Finds Average Change\n",
    "df['shifted']= df[\"Profit/Losses\"].shift(1)\n",
    "df[\"growth\"]=df[\"Profit/Losses\"]-df['shifted']\n",
    "Average_change= round(df[\"growth\"].mean(),2)\n",
    "print(Average_change)"
   ]
  },
  {
   "cell_type": "code",
   "execution_count": 37,
   "id": "d0f33ccf",
   "metadata": {},
   "outputs": [
    {
     "data": {
      "text/plain": [
       "1862002"
      ]
     },
     "execution_count": 37,
     "metadata": {},
     "output_type": "execute_result"
    }
   ],
   "source": [
    "#Finds Greatest Increase\n",
    "greatest_increase = int(df['difference'].max())\n",
    "greatest_increase"
   ]
  },
  {
   "cell_type": "code",
   "execution_count": 38,
   "id": "8b77196c",
   "metadata": {},
   "outputs": [
    {
     "data": {
      "text/plain": [
       "-1825558"
      ]
     },
     "execution_count": 38,
     "metadata": {},
     "output_type": "execute_result"
    }
   ],
   "source": [
    "#Finds Greatest Decrease\n",
    "greatest_decrease = int(df['difference'].min())\n",
    "greatest_decrease\n"
   ]
  },
  {
   "cell_type": "code",
   "execution_count": 39,
   "id": "ccefa296",
   "metadata": {},
   "outputs": [
    {
     "name": "stdout",
     "output_type": "stream",
     "text": [
      "86\n"
     ]
    }
   ],
   "source": [
    "print(total_months)"
   ]
  },
  {
   "cell_type": "code",
   "execution_count": 40,
   "id": "a9174ae3",
   "metadata": {
    "scrolled": true
   },
   "outputs": [
    {
     "name": "stdout",
     "output_type": "stream",
     "text": [
      "Financial Analysis\n",
      "----------------------------\n",
      "Total Months: 86\n",
      "Total: $22564198\n",
      "Average Change: $-8311.11\n",
      "Greatest Increase in Profits: 1862002\n",
      "Greatest Decrease in Profits: -1825558\n",
      "\n"
     ]
    }
   ],
   "source": [
    "#Prints Outputs to Terminal Window\n",
    "output = (\n",
    "f\"Financial Analysis\\n\"\n",
    "f\"----------------------------\\n\"\n",
    "f\"Total Months: {total_months}\\n\"\n",
    "f\"Total: ${total}\\n\"\n",
    "f\"Average Change: ${Average_change:.2f}\\n\"\n",
    "f\"Greatest Increase in Profits: {greatest_increase}\\n\"\n",
    "f\"Greatest Decrease in Profits: {greatest_decrease}\\n\")\n",
    "print(output)"
   ]
  },
  {
   "cell_type": "code",
   "execution_count": 41,
   "id": "6c1c1199",
   "metadata": {},
   "outputs": [],
   "source": [
    "#Prints Outputs to txt. file\n",
    "with open('my_text_file.txt', \"w\") as txt_file:\n",
    "    txt_file.write(output)"
   ]
  },
  {
   "cell_type": "code",
   "execution_count": null,
   "id": "031750a3",
   "metadata": {},
   "outputs": [],
   "source": []
  },
  {
   "cell_type": "code",
   "execution_count": null,
   "id": "8ecf0d58",
   "metadata": {},
   "outputs": [],
   "source": []
  },
  {
   "cell_type": "code",
   "execution_count": null,
   "id": "d2c52d1a",
   "metadata": {},
   "outputs": [],
   "source": []
  }
 ],
 "metadata": {
  "kernelspec": {
   "display_name": "Python 3 (ipykernel)",
   "language": "python",
   "name": "python3"
  },
  "language_info": {
   "codemirror_mode": {
    "name": "ipython",
    "version": 3
   },
   "file_extension": ".py",
   "mimetype": "text/x-python",
   "name": "python",
   "nbconvert_exporter": "python",
   "pygments_lexer": "ipython3",
   "version": "3.9.13"
  }
 },
 "nbformat": 4,
 "nbformat_minor": 5
}
