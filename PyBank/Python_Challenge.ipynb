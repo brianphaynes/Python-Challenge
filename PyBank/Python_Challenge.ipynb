{
 "cells": [
  {
   "cell_type": "code",
   "execution_count": 162,
   "id": "0b2df798",
   "metadata": {},
   "outputs": [
    {
     "data": {
      "text/html": [
       "<div>\n",
       "<style scoped>\n",
       "    .dataframe tbody tr th:only-of-type {\n",
       "        vertical-align: middle;\n",
       "    }\n",
       "\n",
       "    .dataframe tbody tr th {\n",
       "        vertical-align: top;\n",
       "    }\n",
       "\n",
       "    .dataframe thead th {\n",
       "        text-align: right;\n",
       "    }\n",
       "</style>\n",
       "<table border=\"1\" class=\"dataframe\">\n",
       "  <thead>\n",
       "    <tr style=\"text-align: right;\">\n",
       "      <th></th>\n",
       "      <th>Date</th>\n",
       "      <th>Profit/Losses</th>\n",
       "      <th>shifted</th>\n",
       "      <th>growth</th>\n",
       "      <th>Profit/Losses_Shifted</th>\n",
       "      <th>difference</th>\n",
       "    </tr>\n",
       "  </thead>\n",
       "  <tbody>\n",
       "    <tr>\n",
       "      <th>0</th>\n",
       "      <td>Jan-10</td>\n",
       "      <td>1088983</td>\n",
       "      <td>NaN</td>\n",
       "      <td>NaN</td>\n",
       "      <td>NaN</td>\n",
       "      <td>NaN</td>\n",
       "    </tr>\n",
       "    <tr>\n",
       "      <th>1</th>\n",
       "      <td>Feb-10</td>\n",
       "      <td>-354534</td>\n",
       "      <td>1088983.0</td>\n",
       "      <td>-1443517.0</td>\n",
       "      <td>1088983.0</td>\n",
       "      <td>-1443517.0</td>\n",
       "    </tr>\n",
       "    <tr>\n",
       "      <th>2</th>\n",
       "      <td>Mar-10</td>\n",
       "      <td>276622</td>\n",
       "      <td>-354534.0</td>\n",
       "      <td>631156.0</td>\n",
       "      <td>-354534.0</td>\n",
       "      <td>631156.0</td>\n",
       "    </tr>\n",
       "    <tr>\n",
       "      <th>3</th>\n",
       "      <td>Apr-10</td>\n",
       "      <td>-728133</td>\n",
       "      <td>276622.0</td>\n",
       "      <td>-1004755.0</td>\n",
       "      <td>276622.0</td>\n",
       "      <td>-1004755.0</td>\n",
       "    </tr>\n",
       "    <tr>\n",
       "      <th>4</th>\n",
       "      <td>May-10</td>\n",
       "      <td>852993</td>\n",
       "      <td>-728133.0</td>\n",
       "      <td>1581126.0</td>\n",
       "      <td>-728133.0</td>\n",
       "      <td>1581126.0</td>\n",
       "    </tr>\n",
       "    <tr>\n",
       "      <th>...</th>\n",
       "      <td>...</td>\n",
       "      <td>...</td>\n",
       "      <td>...</td>\n",
       "      <td>...</td>\n",
       "      <td>...</td>\n",
       "      <td>...</td>\n",
       "    </tr>\n",
       "    <tr>\n",
       "      <th>81</th>\n",
       "      <td>Oct-16</td>\n",
       "      <td>-729004</td>\n",
       "      <td>898241.0</td>\n",
       "      <td>-1627245.0</td>\n",
       "      <td>898241.0</td>\n",
       "      <td>-1627245.0</td>\n",
       "    </tr>\n",
       "    <tr>\n",
       "      <th>82</th>\n",
       "      <td>Nov-16</td>\n",
       "      <td>-112209</td>\n",
       "      <td>-729004.0</td>\n",
       "      <td>616795.0</td>\n",
       "      <td>-729004.0</td>\n",
       "      <td>616795.0</td>\n",
       "    </tr>\n",
       "    <tr>\n",
       "      <th>83</th>\n",
       "      <td>Dec-16</td>\n",
       "      <td>516313</td>\n",
       "      <td>-112209.0</td>\n",
       "      <td>628522.0</td>\n",
       "      <td>-112209.0</td>\n",
       "      <td>628522.0</td>\n",
       "    </tr>\n",
       "    <tr>\n",
       "      <th>84</th>\n",
       "      <td>Jan-17</td>\n",
       "      <td>607208</td>\n",
       "      <td>516313.0</td>\n",
       "      <td>90895.0</td>\n",
       "      <td>516313.0</td>\n",
       "      <td>90895.0</td>\n",
       "    </tr>\n",
       "    <tr>\n",
       "      <th>85</th>\n",
       "      <td>Feb-17</td>\n",
       "      <td>382539</td>\n",
       "      <td>607208.0</td>\n",
       "      <td>-224669.0</td>\n",
       "      <td>607208.0</td>\n",
       "      <td>-224669.0</td>\n",
       "    </tr>\n",
       "  </tbody>\n",
       "</table>\n",
       "<p>86 rows × 6 columns</p>\n",
       "</div>"
      ],
      "text/plain": [
       "      Date  Profit/Losses    shifted     growth  Profit/Losses_Shifted  \\\n",
       "0   Jan-10        1088983        NaN        NaN                    NaN   \n",
       "1   Feb-10        -354534  1088983.0 -1443517.0              1088983.0   \n",
       "2   Mar-10         276622  -354534.0   631156.0              -354534.0   \n",
       "3   Apr-10        -728133   276622.0 -1004755.0               276622.0   \n",
       "4   May-10         852993  -728133.0  1581126.0              -728133.0   \n",
       "..     ...            ...        ...        ...                    ...   \n",
       "81  Oct-16        -729004   898241.0 -1627245.0               898241.0   \n",
       "82  Nov-16        -112209  -729004.0   616795.0              -729004.0   \n",
       "83  Dec-16         516313  -112209.0   628522.0              -112209.0   \n",
       "84  Jan-17         607208   516313.0    90895.0               516313.0   \n",
       "85  Feb-17         382539   607208.0  -224669.0               607208.0   \n",
       "\n",
       "    difference  \n",
       "0          NaN  \n",
       "1   -1443517.0  \n",
       "2     631156.0  \n",
       "3   -1004755.0  \n",
       "4    1581126.0  \n",
       "..         ...  \n",
       "81  -1627245.0  \n",
       "82    616795.0  \n",
       "83    628522.0  \n",
       "84     90895.0  \n",
       "85   -224669.0  \n",
       "\n",
       "[86 rows x 6 columns]"
      ]
     },
     "execution_count": 162,
     "metadata": {},
     "output_type": "execute_result"
    }
   ],
   "source": [
    "import pandas as pd"
   ]
  },
  {
   "cell_type": "code",
   "execution_count": 149,
   "id": "ffa9105d",
   "metadata": {},
   "outputs": [
    {
     "data": {
      "text/plain": [
       "['Date',\n",
       " 'Profit/Losses',\n",
       " 'shifted',\n",
       " 'growth',\n",
       " 'Profit/Losses_Shifted',\n",
       " 'difference']"
      ]
     },
     "execution_count": 149,
     "metadata": {},
     "output_type": "execute_result"
    }
   ],
   "source": [
    "header = list(df.columns)\n",
    "header"
   ]
  },
  {
   "cell_type": "code",
   "execution_count": 136,
   "id": "93a96828",
   "metadata": {},
   "outputs": [],
   "source": [
    "df = pd.read_csv(r'C:\\Users\\Brian Haynes\\Downloads\\Starter_Code (3)\\Instructions\\PyBank\\Resources\\budget_data.csv')"
   ]
  },
  {
   "cell_type": "code",
   "execution_count": 137,
   "id": "6a6a1e8b",
   "metadata": {},
   "outputs": [
    {
     "name": "stdout",
     "output_type": "stream",
     "text": [
      "86\n"
     ]
    }
   ],
   "source": [
    "total_months = len(df)\n",
    "print(total_months) "
   ]
  },
  {
   "cell_type": "code",
   "execution_count": 248,
   "id": "4c29f0e2",
   "metadata": {},
   "outputs": [
    {
     "name": "stdout",
     "output_type": "stream",
     "text": [
      "22564198\n"
     ]
    }
   ],
   "source": [
    "total = df['Profit/Losses'].sum()\n",
    "print(total)\n"
   ]
  },
  {
   "cell_type": "code",
   "execution_count": 249,
   "id": "5bbf94a0",
   "metadata": {},
   "outputs": [],
   "source": [
    "greatest_increase= 0\n",
    "greatest_decrease= 0\n",
    "for i in df[\"Profit/Losses\"].keys():\n",
    "    if i == 0:\n",
    "        difference = df[\"Profit/Losses\"] [i + 1] - df[\"Profit/Losses\"][i]\n",
    "        if difference > greatest_increase:\n",
    "            greatest_increase = difference\n",
    "            date_increase = df[\"Date\"][i+1]\n",
    "        elif difference < greatest_decrease:\n",
    "            greatest_decrease = difference\n",
    "            date_increase = df[\"Date\"][i + 1]\n",
    "else:\n",
    "    difference = df['Profit/Losses'][i] - df['Profit/Losses'][i-1]\n",
    "    if difference > greatest_increase:\n",
    "            greatest_increase = difference\n",
    "            date_increase = df[\"Date\"][i+1]\n",
    "    elif difference < greatest_decrease:\n",
    "            greatest_decrease = difference\n",
    "            date_increase = df[\"Date\"][i + 1]\n",
    "   "
   ]
  },
  {
   "cell_type": "code",
   "execution_count": 250,
   "id": "2b40a317",
   "metadata": {},
   "outputs": [],
   "source": [
    "df[\"Profit/Losses_Shifted\"] = df[\"Profit/Losses\"].shift(1)"
   ]
  },
  {
   "cell_type": "code",
   "execution_count": 251,
   "id": "7702cee2",
   "metadata": {},
   "outputs": [],
   "source": [
    "df[\"difference\"] = df[\"Profit/Losses\"] - df[\"Profit/Losses_Shifted\"]"
   ]
  },
  {
   "cell_type": "code",
   "execution_count": 252,
   "id": "3ba2735b",
   "metadata": {
    "scrolled": true
   },
   "outputs": [
    {
     "name": "stdout",
     "output_type": "stream",
     "text": [
      "-8311.11\n"
     ]
    }
   ],
   "source": [
    "df['shifted']= df[\"Profit/Losses\"].shift(1)\n",
    "df[\"growth\"]=df[\"Profit/Losses\"]-df['shifted']\n",
    "Average_change= round(df[\"growth\"].mean(),2)\n",
    "print(Average_change)"
   ]
  },
  {
   "cell_type": "code",
   "execution_count": 253,
   "id": "d0f33ccf",
   "metadata": {},
   "outputs": [
    {
     "data": {
      "text/plain": [
       "1862002"
      ]
     },
     "execution_count": 253,
     "metadata": {},
     "output_type": "execute_result"
    }
   ],
   "source": [
    "greatest_increase = int(df['difference'].max())\n",
    "greatest_increase"
   ]
  },
  {
   "cell_type": "code",
   "execution_count": 254,
   "id": "8b77196c",
   "metadata": {},
   "outputs": [
    {
     "data": {
      "text/plain": [
       "-1825558"
      ]
     },
     "execution_count": 254,
     "metadata": {},
     "output_type": "execute_result"
    }
   ],
   "source": [
    "greatest_decrease = int(df['difference'].min())\n",
    "greatest_decrease\n"
   ]
  },
  {
   "cell_type": "code",
   "execution_count": 255,
   "id": "ccefa296",
   "metadata": {},
   "outputs": [
    {
     "name": "stdout",
     "output_type": "stream",
     "text": [
      "86\n"
     ]
    }
   ],
   "source": [
    "print(total_months)"
   ]
  },
  {
   "cell_type": "code",
   "execution_count": 256,
   "id": "a9174ae3",
   "metadata": {
    "scrolled": true
   },
   "outputs": [
    {
     "name": "stdout",
     "output_type": "stream",
     "text": [
      "Financial Analysis\n",
      "\n",
      "----------------------------\n",
      "\n",
      "Total Months: 86\n",
      "\n",
      "Total: $22564198\n",
      "\n",
      "Average Change: $-8311.11\n",
      "\n",
      "Greatest Increase in Profits: 1862002\n",
      "\n",
      "Greatest Decrease in Profits: -1825558\n",
      "\n"
     ]
    }
   ],
   "source": [
    "print(f\"Financial Analysis\\n\")\n",
    "print(f\"----------------------------\\n\")\n",
    "print(f\"Total Months: {total_months}\\n\")\n",
    "print(f\"Total: ${total}\\n\")\n",
    "print(f\"Average Change: ${Average_change:.2f}\\n\")\n",
    "print(f\"Greatest Increase in Profits: {greatest_increase}\\n\")\n",
    "print(f\"Greatest Decrease in Profits: {greatest_decrease}\\n\")"
   ]
  },
  {
   "cell_type": "code",
   "execution_count": null,
   "id": "6c1c1199",
   "metadata": {},
   "outputs": [],
   "source": []
  }
 ],
 "metadata": {
  "kernelspec": {
   "display_name": "Python 3 (ipykernel)",
   "language": "python",
   "name": "python3"
  },
  "language_info": {
   "codemirror_mode": {
    "name": "ipython",
    "version": 3
   },
   "file_extension": ".py",
   "mimetype": "text/x-python",
   "name": "python",
   "nbconvert_exporter": "python",
   "pygments_lexer": "ipython3",
   "version": "3.9.13"
  }
 },
 "nbformat": 4,
 "nbformat_minor": 5
}
