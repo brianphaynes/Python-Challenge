{
 "cells": [
  {
   "cell_type": "code",
   "execution_count": 112,
   "id": "4074822a",
   "metadata": {},
   "outputs": [],
   "source": [
    "import pandas as pd\n",
    "df_poll = pd.read_csv(r\"C:\\Users\\Brian Haynes\\Downloads\\Starter_Code (5)\\Instructions\\PyPoll\\Resources\\election_data.csv\")"
   ]
  },
  {
   "cell_type": "code",
   "execution_count": 113,
   "id": "ed167829",
   "metadata": {},
   "outputs": [
    {
     "data": {
      "text/html": [
       "<div>\n",
       "<style scoped>\n",
       "    .dataframe tbody tr th:only-of-type {\n",
       "        vertical-align: middle;\n",
       "    }\n",
       "\n",
       "    .dataframe tbody tr th {\n",
       "        vertical-align: top;\n",
       "    }\n",
       "\n",
       "    .dataframe thead th {\n",
       "        text-align: right;\n",
       "    }\n",
       "</style>\n",
       "<table border=\"1\" class=\"dataframe\">\n",
       "  <thead>\n",
       "    <tr style=\"text-align: right;\">\n",
       "      <th></th>\n",
       "      <th>Ballot ID</th>\n",
       "      <th>County</th>\n",
       "      <th>Candidate</th>\n",
       "    </tr>\n",
       "  </thead>\n",
       "  <tbody>\n",
       "    <tr>\n",
       "      <th>0</th>\n",
       "      <td>1323913</td>\n",
       "      <td>Jefferson</td>\n",
       "      <td>Charles Casper Stockham</td>\n",
       "    </tr>\n",
       "    <tr>\n",
       "      <th>1</th>\n",
       "      <td>1005842</td>\n",
       "      <td>Jefferson</td>\n",
       "      <td>Charles Casper Stockham</td>\n",
       "    </tr>\n",
       "    <tr>\n",
       "      <th>2</th>\n",
       "      <td>1880345</td>\n",
       "      <td>Jefferson</td>\n",
       "      <td>Charles Casper Stockham</td>\n",
       "    </tr>\n",
       "    <tr>\n",
       "      <th>3</th>\n",
       "      <td>1600337</td>\n",
       "      <td>Jefferson</td>\n",
       "      <td>Charles Casper Stockham</td>\n",
       "    </tr>\n",
       "    <tr>\n",
       "      <th>4</th>\n",
       "      <td>1835994</td>\n",
       "      <td>Jefferson</td>\n",
       "      <td>Charles Casper Stockham</td>\n",
       "    </tr>\n",
       "    <tr>\n",
       "      <th>...</th>\n",
       "      <td>...</td>\n",
       "      <td>...</td>\n",
       "      <td>...</td>\n",
       "    </tr>\n",
       "    <tr>\n",
       "      <th>369706</th>\n",
       "      <td>4714953</td>\n",
       "      <td>Arapahoe</td>\n",
       "      <td>Raymon Anthony Doane</td>\n",
       "    </tr>\n",
       "    <tr>\n",
       "      <th>369707</th>\n",
       "      <td>4497542</td>\n",
       "      <td>Arapahoe</td>\n",
       "      <td>Raymon Anthony Doane</td>\n",
       "    </tr>\n",
       "    <tr>\n",
       "      <th>369708</th>\n",
       "      <td>4085849</td>\n",
       "      <td>Arapahoe</td>\n",
       "      <td>Raymon Anthony Doane</td>\n",
       "    </tr>\n",
       "    <tr>\n",
       "      <th>369709</th>\n",
       "      <td>4592018</td>\n",
       "      <td>Arapahoe</td>\n",
       "      <td>Raymon Anthony Doane</td>\n",
       "    </tr>\n",
       "    <tr>\n",
       "      <th>369710</th>\n",
       "      <td>4660518</td>\n",
       "      <td>Arapahoe</td>\n",
       "      <td>Raymon Anthony Doane</td>\n",
       "    </tr>\n",
       "  </tbody>\n",
       "</table>\n",
       "<p>369711 rows × 3 columns</p>\n",
       "</div>"
      ],
      "text/plain": [
       "        Ballot ID     County                Candidate\n",
       "0         1323913  Jefferson  Charles Casper Stockham\n",
       "1         1005842  Jefferson  Charles Casper Stockham\n",
       "2         1880345  Jefferson  Charles Casper Stockham\n",
       "3         1600337  Jefferson  Charles Casper Stockham\n",
       "4         1835994  Jefferson  Charles Casper Stockham\n",
       "...           ...        ...                      ...\n",
       "369706    4714953   Arapahoe     Raymon Anthony Doane\n",
       "369707    4497542   Arapahoe     Raymon Anthony Doane\n",
       "369708    4085849   Arapahoe     Raymon Anthony Doane\n",
       "369709    4592018   Arapahoe     Raymon Anthony Doane\n",
       "369710    4660518   Arapahoe     Raymon Anthony Doane\n",
       "\n",
       "[369711 rows x 3 columns]"
      ]
     },
     "execution_count": 113,
     "metadata": {},
     "output_type": "execute_result"
    }
   ],
   "source": [
    "df_poll"
   ]
  },
  {
   "cell_type": "code",
   "execution_count": 114,
   "id": "deeadd59",
   "metadata": {},
   "outputs": [
    {
     "data": {
      "text/plain": [
       "['Ballot ID', 'County', 'Candidate']"
      ]
     },
     "execution_count": 114,
     "metadata": {},
     "output_type": "execute_result"
    }
   ],
   "source": [
    "#Store Header Row\n",
    "header = list(df_poll.columns)\n",
    "header"
   ]
  },
  {
   "cell_type": "code",
   "execution_count": 115,
   "id": "93c038be",
   "metadata": {},
   "outputs": [
    {
     "name": "stdout",
     "output_type": "stream",
     "text": [
      "369711\n"
     ]
    }
   ],
   "source": [
    "#Find Total Number of Votes Cast\n",
    "Total_Votes = len(df_poll)\n",
    "print(Total_Votes) "
   ]
  },
  {
   "cell_type": "code",
   "execution_count": 116,
   "id": "55ab1fa4",
   "metadata": {},
   "outputs": [
    {
     "data": {
      "text/plain": [
       "Candidate              \n",
       "Diana DeGette              272892\n",
       "Charles Casper Stockham     85213\n",
       "Raymon Anthony Doane        11606\n",
       "dtype: int64"
      ]
     },
     "execution_count": 116,
     "metadata": {},
     "output_type": "execute_result"
    }
   ],
   "source": [
    "#Get all candidates and their vote counts to make sure values match up later\n",
    "Candidate_Votes = df_poll[['Candidate']].value_counts()\n",
    "Candidate_Votes"
   ]
  },
  {
   "cell_type": "code",
   "execution_count": 134,
   "id": "f5152aff",
   "metadata": {},
   "outputs": [
    {
     "data": {
      "text/plain": [
       "('Charles Casper Stockham', 'Diana DeGette', 'Raymon Anthony Doane')"
      ]
     },
     "execution_count": 134,
     "metadata": {},
     "output_type": "execute_result"
    }
   ],
   "source": [
    "candidates = df_poll[\"Candidate\"].unique()\n",
    "candidates[0],candidates[1],candidates[2]\n"
   ]
  },
  {
   "cell_type": "code",
   "execution_count": 135,
   "id": "08659fc4",
   "metadata": {},
   "outputs": [
    {
     "data": {
      "text/plain": [
       "85213"
      ]
     },
     "execution_count": 135,
     "metadata": {},
     "output_type": "execute_result"
    }
   ],
   "source": [
    "charles_votes = (df_poll[\"Candidate\"] == candidates[0]).sum()\n",
    "charles_votes"
   ]
  },
  {
   "cell_type": "code",
   "execution_count": 136,
   "id": "8aa58b59",
   "metadata": {},
   "outputs": [
    {
     "data": {
      "text/plain": [
       "272892"
      ]
     },
     "execution_count": 136,
     "metadata": {},
     "output_type": "execute_result"
    }
   ],
   "source": [
    "diana_votes = (df_poll[\"Candidate\"] == candidates[1]).sum()\n",
    "diana_votes"
   ]
  },
  {
   "cell_type": "code",
   "execution_count": 137,
   "id": "d7a80c4b",
   "metadata": {},
   "outputs": [
    {
     "data": {
      "text/plain": [
       "11606"
      ]
     },
     "execution_count": 137,
     "metadata": {},
     "output_type": "execute_result"
    }
   ],
   "source": [
    "rayman_votes = (df_poll[\"Candidate\"] == candidates[2]).sum()\n",
    "rayman_votes"
   ]
  },
  {
   "cell_type": "code",
   "execution_count": 138,
   "id": "db1eb343",
   "metadata": {},
   "outputs": [
    {
     "data": {
      "text/plain": [
       "3.1392087333079077"
      ]
     },
     "execution_count": 138,
     "metadata": {},
     "output_type": "execute_result"
    }
   ],
   "source": [
    "#Divide each candidates votes by the total number of votes to get percent of vote\n",
    "rayman_per = raymon_votes/Total_Votes*100\n",
    "rayman_per"
   ]
  },
  {
   "cell_type": "code",
   "execution_count": 139,
   "id": "06050428",
   "metadata": {},
   "outputs": [
    {
     "data": {
      "text/plain": [
       "73.81224794501652"
      ]
     },
     "execution_count": 139,
     "metadata": {},
     "output_type": "execute_result"
    }
   ],
   "source": [
    "diana_per = diana_votes/Total_Votes*100\n",
    "diana_per"
   ]
  },
  {
   "cell_type": "code",
   "execution_count": 159,
   "id": "a720b7aa",
   "metadata": {},
   "outputs": [
    {
     "data": {
      "text/plain": [
       "23.04854332167558"
      ]
     },
     "execution_count": 159,
     "metadata": {},
     "output_type": "execute_result"
    }
   ],
   "source": [
    "charles_per = charles_votes/Total_Votes*100\n",
    "charles_per"
   ]
  },
  {
   "cell_type": "code",
   "execution_count": 160,
   "id": "646b0c94",
   "metadata": {},
   "outputs": [
    {
     "data": {
      "text/plain": [
       "{'Charles Casper Stockham': [23.04854332167558, 85213],\n",
       " 'Diana DeGette': [73.81224794501652, 272892],\n",
       " 'Raymon Anthony Doane': [3.1392087333079077, 11606]}"
      ]
     },
     "execution_count": 160,
     "metadata": {},
     "output_type": "execute_result"
    }
   ],
   "source": [
    "#Create Dictionary to hold results\n",
    "Candidate_Dict = {}\n",
    "\n",
    "#Add First Candidate\n",
    "Candidate_Dict[candidates[0]] = [charles_per, charles_votes]\n",
    "\n",
    "Candidate_Dict[candidates[1]] = [diana_per, diana_votes]\n",
    "\n",
    "Candidate_Dict[candidates[2]] = [rayman_per, rayman_votes]\n",
    "\n",
    "Candidate_Dict"
   ]
  },
  {
   "cell_type": "code",
   "execution_count": 211,
   "id": "acb9cf9d",
   "metadata": {},
   "outputs": [
    {
     "name": "stdout",
     "output_type": "stream",
     "text": [
      "Diana DeGette\n"
     ]
    }
   ],
   "source": [
    "#Create an if statement that finds out the Winning Candidate\n",
    "Winning_Candidate = ''\n",
    "Vote_Count = 0\n",
    "if rayman_votes > Vote_Count:\n",
    "    Vote_Count = rayman_votes\n",
    "    Winning_Candidate = candidates[2]\n",
    "if charles_votes > Vote_Count:\n",
    "    Vote_Count = charles_votes\n",
    "    Winning_Candidate = candidates[0]\n",
    "if diana_votes > Vote_Count:\n",
    "    Vote_Count = diana_votes\n",
    "    Winning_Candidate = candidates[1]\n",
    "print(Winning_Candidate)\n"
   ]
  },
  {
   "cell_type": "markdown",
   "id": "78ec51a3",
   "metadata": {},
   "source": [
    "## Election Results"
   ]
  },
  {
   "cell_type": "code",
   "execution_count": 212,
   "id": "01dc86e7",
   "metadata": {},
   "outputs": [
    {
     "name": "stdout",
     "output_type": "stream",
     "text": [
      "Election Results\n",
      "-------------------\n",
      "Total Votes: 369711\n",
      "--------------------\n",
      "Charles Casper Stockham:23.049%, (85213)\n",
      "Diana DeGette:73.812%, (272892)\n",
      "Raymon Anthony Doane:3.139%, (11606)\n",
      "--------------------\n",
      " Winner: Diana DeGette \n",
      "--------------------\n",
      "\n"
     ]
    }
   ],
   "source": [
    "#Create a summary table, use round function to make percentages match up with the results in the module\n",
    "election_results = (\n",
    "    f\"Election Results\\n\"\n",
    "    f\"-------------------\\n\"\n",
    "    f\"Total Votes: {Total_Votes}\\n\"\n",
    "    f\"--------------------\\n\"\n",
    "    f\"{candidates[0]}:{round(charles_per,3)}%, ({charles_votes})\\n\"\n",
    "    f\"{candidates[1]}:{round(diana_per,3)}%, ({diana_votes})\\n\"\n",
    "    f\"{candidates[2]}:{round(rayman_per,3)}%, ({rayman_votes})\\n\"\n",
    "    f\"--------------------\\n\"\n",
    "    f\" Winner: {Winning_Candidate} \\n\"\n",
    "    f\"--------------------\\n\"\n",
    "    \n",
    "    \n",
    "\n",
    ")\n",
    "\n",
    "print(election_results)\n"
   ]
  },
  {
   "cell_type": "code",
   "execution_count": 218,
   "id": "9943f9c8",
   "metadata": {},
   "outputs": [],
   "source": [
    "#Prints Outputs to txt. file\n",
    "PyPoll_Text = \"PyPoll_Text_File.txt\"\n",
    "with open(PyPoll_Text,\"w\")as txt_file:\n",
    "    txt_file.write(election_results)\n",
    "    "
   ]
  },
  {
   "cell_type": "code",
   "execution_count": null,
   "id": "07e80c45",
   "metadata": {},
   "outputs": [],
   "source": []
  }
 ],
 "metadata": {
  "kernelspec": {
   "display_name": "Python 3 (ipykernel)",
   "language": "python",
   "name": "python3"
  },
  "language_info": {
   "codemirror_mode": {
    "name": "ipython",
    "version": 3
   },
   "file_extension": ".py",
   "mimetype": "text/x-python",
   "name": "python",
   "nbconvert_exporter": "python",
   "pygments_lexer": "ipython3",
   "version": "3.9.13"
  }
 },
 "nbformat": 4,
 "nbformat_minor": 5
}
